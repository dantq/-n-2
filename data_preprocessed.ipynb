{
 "cells": [
  {
   "cell_type": "code",
   "execution_count": 1,
   "id": "f0564b1c",
   "metadata": {},
   "outputs": [],
   "source": [
    "import pandas as pd\n",
    "import re"
   ]
  },
  {
   "cell_type": "code",
   "execution_count": 2,
   "id": "d0d2b625",
   "metadata": {},
   "outputs": [],
   "source": [
    "# === 0. Đọc dữ liệu ===\n",
    "df = pd.read_csv('CellphoneS.csv', encoding='utf-8')"
   ]
  },
  {
   "cell_type": "code",
   "execution_count": 3,
   "id": "290b6bc2",
   "metadata": {},
   "outputs": [],
   "source": [
    "# === 1. Xóa các cột không cần thiết nếu có ===\n",
    "columns_to_drop = [\n",
    "    'web-scraper-order', 'web-scraper-start-url',\n",
    "    'link', 'link-href', 'type'\n",
    "]\n",
    "df = df.drop(columns=[col for col in columns_to_drop if col in df.columns], errors='ignore')"
   ]
  },
  {
   "cell_type": "code",
   "execution_count": 4,
   "id": "06735f82",
   "metadata": {},
   "outputs": [],
   "source": [
    "# === 2. Xử lý cột giá (price) ===\n",
    "df['price'] = df['price'].astype(str).str.replace(r'[^\\d]', '', regex=True)\n",
    "df['price'] = pd.to_numeric(df['price'], errors='coerce')"
   ]
  },
  {
   "cell_type": "code",
   "execution_count": 5,
   "id": "b822d65c",
   "metadata": {},
   "outputs": [],
   "source": [
    "# === 3. Hàm trích số từ chuỗi ===\n",
    "def extract_number(x):\n",
    "    if pd.isnull(x): return None\n",
    "    x = str(x).replace(',', '')\n",
    "    match = re.search(r'(\\d+)', x)\n",
    "    return int(match.group(1)) if match else None"
   ]
  },
  {
   "cell_type": "code",
   "execution_count": 6,
   "id": "eb4aa452",
   "metadata": {},
   "outputs": [],
   "source": [
    "# === 4. Áp dụng cho internal_storage, battery ===\n",
    "for col in ['internal_storage', 'battery']:\n",
    "    if col in df.columns:\n",
    "        df[col] = df[col].apply(extract_number)"
   ]
  },
  {
   "cell_type": "code",
   "execution_count": 7,
   "id": "5c652a3b",
   "metadata": {},
   "outputs": [
    {
     "name": "stdout",
     "output_type": "stream",
     "text": [
      "                  RAM  RAM_in_GB\n",
      "0               12 GB       12.0\n",
      "1               12 GB       12.0\n",
      "2   4GB + Mở rộng 4GB        8.0\n",
      "3   8GB + Mở rộng 8GB       16.0\n",
      "4                6 GB        6.0\n",
      "5                 NaN        NaN\n",
      "6                8 GB        8.0\n",
      "7   6GB + Mở rộng 6GB       12.0\n",
      "8   4GB + Mở rộng 4GB        8.0\n",
      "9                4 GB        4.0\n",
      "10                NaN        NaN\n",
      "11               8 GB        8.0\n",
      "12               8 GB        8.0\n",
      "13               6 GB        6.0\n",
      "14               4 GB        4.0\n",
      "15              16 GB       16.0\n",
      "16              12 GB       12.0\n",
      "17              12 GB       12.0\n",
      "18               8 GB        8.0\n",
      "19              16 GB       16.0\n"
     ]
    }
   ],
   "source": [
    "# === 5. Xử lý RAM ===\n",
    "def extract_ram_in_gb(ram_str):\n",
    "    if pd.isnull(ram_str):\n",
    "        return None\n",
    "    \n",
    "    # Làm sạch chuỗi: loại bỏ dấu phẩy, khoảng trắng thừa, chuyển thành chữ thường\n",
    "    cleaned_ram_str = str(ram_str).replace(',', '').strip().lower()\n",
    "\n",
    "    # 1. Mẫu tìm kiếm để tính tổng RAM (có mở rộng) Ví dụ: \"4GB + Mở rộng 4GB\" sẽ bắt 4 và 4, tổng là 8.\n",
    "    match_total = re.search(r'(\\d+)\\s*gb(?:\\s*\\+\\s*mở\\s*rộng\\s*(\\d+)\\s*gb)?', cleaned_ram_str)\n",
    "    if match_total:\n",
    "        base_ram = int(match_total.group(1))\n",
    "        expanded_ram = int(match_total.group(2)) if match_total.group(2) else 0\n",
    "        return float(base_ram + expanded_ram) # Trả về tổng dưới dạng float (ví dụ: 8.0)\n",
    "\n",
    "    # 2. Xử lý các trường hợp đơn giản chỉ có 'X GB' hoặc 'X MB'. Ví dụ: \"4 GB\" sẽ bắt 4 và 'gb'. \"64MB\" sẽ bắt 64 và 'mb'.\n",
    "    match_simple = re.search(r'(\\d+)\\s*(gb|mb)?', cleaned_ram_str)\n",
    "    if match_simple:\n",
    "        num = int(match_simple.group(1))\n",
    "        unit = match_simple.group(2)      \n",
    "        if unit == 'mb':\n",
    "            return float(num / 1024) # Chuyển MB sang GB\n",
    "        else: # Mặc định là GB nếu không có đơn vị hoặc là 'gb'\n",
    "            return float(num) # Trả về số nguyên dưới dạng float (ví dụ: 4.0)        \n",
    "    return None \n",
    "\n",
    "df = pd.DataFrame(df)\n",
    "# Áp dụng hàm chỉ cho cột 'RAM'\n",
    "df['RAM_in_GB'] = df['RAM'].apply(extract_ram_in_gb)\n",
    "\n",
    "print(df[['RAM', 'RAM_in_GB']].head(20)) # In 20 hàng đầu để thấy kết quả"
   ]
  },
  {
   "cell_type": "code",
   "execution_count": 8,
   "id": "b13ff677",
   "metadata": {},
   "outputs": [],
   "source": [
    "# Xóa cột RAM \n",
    "df.drop('RAM', axis=1, inplace=True)"
   ]
  },
  {
   "cell_type": "code",
   "execution_count": 9,
   "id": "df21d13f",
   "metadata": {},
   "outputs": [],
   "source": [
    "# === 6. Xử lý ratings: '4.5/5' → 4.5\n",
    "if 'ratings' in df.columns:\n",
    "    df['ratings'] = df['ratings'].astype(str).str.extract(r'([\\d.]+)')\n",
    "    df['ratings'] = pd.to_numeric(df['ratings'], errors='coerce')"
   ]
  },
  {
   "cell_type": "code",
   "execution_count": 11,
   "id": "aee99fa6",
   "metadata": {},
   "outputs": [],
   "source": [
    "# === 7. Xử lý refresh_rate: trích số Hz từ chuỗi\n",
    "def extract_refresh_rate(x):\n",
    "    match = re.search(r'(\\d{2,3})\\s*Hz', str(x))\n",
    "    if match:\n",
    "        return int(match.group(1))\n",
    "    return None\n",
    "if 'refresh_rate' in df.columns:\n",
    "    df['refresh_rate'] = df['refresh_rate'].apply(extract_refresh_rate)"
   ]
  },
  {
   "cell_type": "code",
   "execution_count": 12,
   "id": "38c0bf98",
   "metadata": {},
   "outputs": [],
   "source": [
    "# === 8. Xử lý screen_size: trích kích thước inch từ chuỗi\n",
    "def extract_screen_size(x):\n",
    "    match = re.search(r'([\\d.]+)\\s*(inch|\\\"|\\')', str(x), flags=re.IGNORECASE)\n",
    "    if match:\n",
    "        return float(match.group(1))\n",
    "    return None\n",
    "if 'screen_size' in df.columns:\n",
    "    df['screen_size'] = df['screen_size'].apply(extract_screen_size)"
   ]
  },
  {
   "cell_type": "code",
   "execution_count": 13,
   "id": "12546276",
   "metadata": {},
   "outputs": [
    {
     "data": {
      "text/html": [
       "<div>\n",
       "<style scoped>\n",
       "    .dataframe tbody tr th:only-of-type {\n",
       "        vertical-align: middle;\n",
       "    }\n",
       "\n",
       "    .dataframe tbody tr th {\n",
       "        vertical-align: top;\n",
       "    }\n",
       "\n",
       "    .dataframe thead th {\n",
       "        text-align: right;\n",
       "    }\n",
       "</style>\n",
       "<table border=\"1\" class=\"dataframe\">\n",
       "  <thead>\n",
       "    <tr style=\"text-align: right;\">\n",
       "      <th></th>\n",
       "      <th>title</th>\n",
       "      <th>price</th>\n",
       "      <th>ratings</th>\n",
       "      <th>num_rates</th>\n",
       "      <th>screen_size</th>\n",
       "      <th>refresh_rate</th>\n",
       "      <th>chipset</th>\n",
       "      <th>GPU</th>\n",
       "      <th>sim_slot</th>\n",
       "      <th>internal_storage</th>\n",
       "      <th>battery</th>\n",
       "      <th>operating_system</th>\n",
       "      <th>RAM_in_GB</th>\n",
       "    </tr>\n",
       "  </thead>\n",
       "  <tbody>\n",
       "    <tr>\n",
       "      <th>0</th>\n",
       "      <td>ASUS ROG Phone 6 Mediatek</td>\n",
       "      <td>NaN</td>\n",
       "      <td>NaN</td>\n",
       "      <td>NaN</td>\n",
       "      <td>6.78</td>\n",
       "      <td>None</td>\n",
       "      <td>MediaTek Dimensity 7000 Series</td>\n",
       "      <td>Adreno ™ 730</td>\n",
       "      <td>2 SIM (Nano-SIM)</td>\n",
       "      <td>256.0</td>\n",
       "      <td>6000.0</td>\n",
       "      <td>Android 12</td>\n",
       "      <td>12.0</td>\n",
       "    </tr>\n",
       "    <tr>\n",
       "      <th>1</th>\n",
       "      <td>ASUS ROG Phone 6 12GB 256GB</td>\n",
       "      <td>14490000.0</td>\n",
       "      <td>5.0</td>\n",
       "      <td>20.0</td>\n",
       "      <td>6.78</td>\n",
       "      <td>None</td>\n",
       "      <td>Qualcomm ® Snapdragon ® 8+ thế hệ 1</td>\n",
       "      <td>Adreno ™ 730</td>\n",
       "      <td>2 SIM (Nano-SIM)</td>\n",
       "      <td>256.0</td>\n",
       "      <td>6000.0</td>\n",
       "      <td>Android 12</td>\n",
       "      <td>12.0</td>\n",
       "    </tr>\n",
       "    <tr>\n",
       "      <th>2</th>\n",
       "      <td>BENCO V91 4GB 128GB</td>\n",
       "      <td>2690000.0</td>\n",
       "      <td>5.0</td>\n",
       "      <td>1.0</td>\n",
       "      <td>6.56</td>\n",
       "      <td>None</td>\n",
       "      <td>Unisoc T606</td>\n",
       "      <td>NaN</td>\n",
       "      <td>2 SIM (Nano-SIM)</td>\n",
       "      <td>128.0</td>\n",
       "      <td>5000.0</td>\n",
       "      <td>Android 13</td>\n",
       "      <td>8.0</td>\n",
       "    </tr>\n",
       "    <tr>\n",
       "      <th>3</th>\n",
       "      <td>Benco S1 Pro 8GB 256GB</td>\n",
       "      <td>4290000.0</td>\n",
       "      <td>NaN</td>\n",
       "      <td>NaN</td>\n",
       "      <td>6.80</td>\n",
       "      <td>None</td>\n",
       "      <td>Unisoc T616</td>\n",
       "      <td>Mali-G57</td>\n",
       "      <td>2 SIM (Nano-SIM)</td>\n",
       "      <td>256.0</td>\n",
       "      <td>5000.0</td>\n",
       "      <td>Android 13</td>\n",
       "      <td>16.0</td>\n",
       "    </tr>\n",
       "    <tr>\n",
       "      <th>4</th>\n",
       "      <td>INOI A83 6GB 128GB</td>\n",
       "      <td>NaN</td>\n",
       "      <td>NaN</td>\n",
       "      <td>NaN</td>\n",
       "      <td>6.52</td>\n",
       "      <td>None</td>\n",
       "      <td>Unisoc T606</td>\n",
       "      <td>NaN</td>\n",
       "      <td>2 SIM (Nano-SIM)</td>\n",
       "      <td>128.0</td>\n",
       "      <td>4000.0</td>\n",
       "      <td>Android 12</td>\n",
       "      <td>6.0</td>\n",
       "    </tr>\n",
       "  </tbody>\n",
       "</table>\n",
       "</div>"
      ],
      "text/plain": [
       "                         title       price  ratings  num_rates  screen_size  \\\n",
       "0    ASUS ROG Phone 6 Mediatek         NaN      NaN        NaN         6.78   \n",
       "1  ASUS ROG Phone 6 12GB 256GB  14490000.0      5.0       20.0         6.78   \n",
       "2          BENCO V91 4GB 128GB   2690000.0      5.0        1.0         6.56   \n",
       "3       Benco S1 Pro 8GB 256GB   4290000.0      NaN        NaN         6.80   \n",
       "4           INOI A83 6GB 128GB         NaN      NaN        NaN         6.52   \n",
       "\n",
       "  refresh_rate                              chipset           GPU  \\\n",
       "0         None       MediaTek Dimensity 7000 Series  Adreno ™ 730   \n",
       "1         None  Qualcomm ® Snapdragon ® 8+ thế hệ 1  Adreno ™ 730   \n",
       "2         None                          Unisoc T606           NaN   \n",
       "3         None                          Unisoc T616      Mali-G57   \n",
       "4         None                          Unisoc T606           NaN   \n",
       "\n",
       "           sim_slot  internal_storage  battery operating_system  RAM_in_GB  \n",
       "0  2 SIM (Nano-SIM)             256.0   6000.0       Android 12       12.0  \n",
       "1  2 SIM (Nano-SIM)             256.0   6000.0       Android 12       12.0  \n",
       "2  2 SIM (Nano-SIM)             128.0   5000.0       Android 13        8.0  \n",
       "3  2 SIM (Nano-SIM)             256.0   5000.0       Android 13       16.0  \n",
       "4  2 SIM (Nano-SIM)             128.0   4000.0       Android 12        6.0  "
      ]
     },
     "execution_count": 13,
     "metadata": {},
     "output_type": "execute_result"
    }
   ],
   "source": [
    "df.head()"
   ]
  },
  {
   "cell_type": "code",
   "execution_count": 13,
   "id": "5554aa1a",
   "metadata": {},
   "outputs": [
    {
     "name": "stdout",
     "output_type": "stream",
     "text": [
      "title                 0\n",
      "price               105\n",
      "ratings             139\n",
      "num_rates           139\n",
      "screen_size           7\n",
      "refresh_rate        103\n",
      "chipset              14\n",
      "GPU                 101\n",
      "sim_slot             38\n",
      "internal_storage     15\n",
      "battery              19\n",
      "operating_system     45\n",
      "RAM_in_GB            37\n",
      "dtype: int64\n"
     ]
    }
   ],
   "source": [
    "print(df.isnull().sum())\n"
   ]
  },
  {
   "cell_type": "code",
   "execution_count": 14,
   "id": "811bcb94",
   "metadata": {},
   "outputs": [],
   "source": [
    "# === 9. Loại bỏ dòng không có giá\n",
    "df = df.dropna(subset=['price'])"
   ]
  },
  {
   "cell_type": "code",
   "execution_count": 15,
   "id": "7fc69f24",
   "metadata": {},
   "outputs": [],
   "source": [
    "# === 10. Điền median cho các cột số ===\n",
    "numeric_cols = ['num_rates', 'RAM_in_GB', 'internal_storage', 'battery', 'refresh_rate']\n",
    "for col in numeric_cols:\n",
    "    if col in df.columns:\n",
    "        median_val = df[col].median()\n",
    "        df[col] = df[col].fillna(median_val)"
   ]
  },
  {
   "cell_type": "code",
   "execution_count": 16,
   "id": "2b3d4495",
   "metadata": {},
   "outputs": [],
   "source": [
    "# === 11. Điền mode cho các cột phân loại ===\n",
    "categorical_cols = ['ratings', 'screen_size', 'chipset', 'GPU', 'sim_slot', 'operating_system']\n",
    "for col in categorical_cols:\n",
    "    if col in df.columns:\n",
    "        if df[col].isnull().any():\n",
    "            df[col] = df[col].fillna(df[col].mode()[0])"
   ]
  },
  {
   "cell_type": "code",
   "execution_count": 17,
   "id": "8c39777c",
   "metadata": {},
   "outputs": [],
   "source": [
    "def simplify_os(os_name):\n",
    "    os_name = os_name.lower()\n",
    "    if \"android\" in os_name:\n",
    "        return \"Android\"\n",
    "    elif \"ios\" in os_name:\n",
    "        return \"iOS\"\n",
    "    elif \"s30\" in os_name:\n",
    "        return \"S30+\"\n",
    "    else:\n",
    "        return \"Khác\"\n",
    "\n",
    "df['operating_system'] = df['operating_system'].apply(simplify_os)\n"
   ]
  },
  {
   "cell_type": "code",
   "execution_count": 18,
   "id": "20f779bd",
   "metadata": {},
   "outputs": [],
   "source": [
    "# === 12. Xuất file Excel\n",
    "#df.to_csv('du_lieu_da_xu_ly.csv', index=False,encoding='utf-8-sig')"
   ]
  },
  {
   "cell_type": "code",
   "execution_count": 19,
   "id": "a4f9cc5e",
   "metadata": {},
   "outputs": [
    {
     "name": "stdout",
     "output_type": "stream",
     "text": [
      "✅ Dữ liệu đã xử lý xong và lưu vào 'du_lieu_da_xu_ly.xlsx'\n",
      "                         title       price  ratings  num_rates  screen_size  \\\n",
      "1  ASUS ROG Phone 6 12GB 256GB  14490000.0      5.0       20.0         6.78   \n",
      "2          BENCO V91 4GB 128GB   2690000.0      5.0        1.0         6.56   \n",
      "3       Benco S1 Pro 8GB 256GB   4290000.0      5.0       10.0         6.80   \n",
      "5                 INOI 288S 4G   1000000.0      5.0        1.0         2.00   \n",
      "6      INOI Note 13s 8GB 256GB   2790000.0      5.0        2.0         6.95   \n",
      "\n",
      "   refresh_rate                              chipset           GPU  \\\n",
      "1         120.0  Qualcomm ® Snapdragon ® 8+ thế hệ 1  Adreno ™ 730   \n",
      "2          90.0                          Unisoc T606    Adreno 610   \n",
      "3         120.0                          Unisoc T616      Mali-G57   \n",
      "5         120.0                        Apple A18 Pro    Adreno 610   \n",
      "6         120.0                          Unisoc T606    Adreno 610   \n",
      "\n",
      "           sim_slot  internal_storage  battery operating_system  RAM_in_GB  \n",
      "1  2 SIM (Nano-SIM)             256.0   6000.0          Android       12.0  \n",
      "2  2 SIM (Nano-SIM)             128.0   5000.0          Android        8.0  \n",
      "3  2 SIM (Nano-SIM)             256.0   5000.0          Android       16.0  \n",
      "5  2 SIM (Nano-SIM)             128.0   1000.0          Android        8.0  \n",
      "6  2 SIM (Nano-SIM)             256.0   5000.0          Android        8.0  \n",
      "\n",
      "⚠️ Kiểm tra thiếu giá trị:\n",
      "title               0\n",
      "price               0\n",
      "ratings             0\n",
      "num_rates           0\n",
      "screen_size         0\n",
      "refresh_rate        0\n",
      "chipset             0\n",
      "GPU                 0\n",
      "sim_slot            0\n",
      "internal_storage    0\n",
      "battery             0\n",
      "operating_system    0\n",
      "RAM_in_GB           0\n",
      "dtype: int64\n"
     ]
    }
   ],
   "source": [
    "# === 13. In kiểm tra\n",
    "print(\"✅ Dữ liệu đã xử lý xong và lưu vào 'du_lieu_da_xu_ly.xlsx'\")\n",
    "print(df.head())\n",
    "print(\"\\n⚠️ Kiểm tra thiếu giá trị:\")\n",
    "print(df.isnull().sum())"
   ]
  }
 ],
 "metadata": {
  "kernelspec": {
   "display_name": "Python 3",
   "language": "python",
   "name": "python3"
  },
  "language_info": {
   "codemirror_mode": {
    "name": "ipython",
    "version": 3
   },
   "file_extension": ".py",
   "mimetype": "text/x-python",
   "name": "python",
   "nbconvert_exporter": "python",
   "pygments_lexer": "ipython3",
   "version": "3.12.0"
  }
 },
 "nbformat": 4,
 "nbformat_minor": 5
}
